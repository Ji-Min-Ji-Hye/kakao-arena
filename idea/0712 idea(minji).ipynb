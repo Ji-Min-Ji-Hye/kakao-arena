{
 "cells": [
  {
   "cell_type": "markdown",
   "metadata": {},
   "source": [
    "# idea\n",
    "- 우선 기존에 있던 코드인 `split data`는 train data set을 나누기 위한 것 같음  \n",
    "- 나누는 이유: **정확도 측정(문제&정답)을 위함**  \n",
    "<br>\n",
    "\n",
    "- evaluate는 정답이 있을 때만 가능.\n",
    "<br>\n",
    "\n",
    "### 따라서\n",
    "1. 우리가 만들어야 하는 모델을 만듦\n",
    "2. train으로 시도(split data로 train 나눔 -> 모델 적용 및 평가)해보고 가장 괜찮은 듯한 모델을 선정\n",
    "3. val로 결과 출력 후 kakao arena에 제출"
   ]
  },
  {
   "cell_type": "markdown",
   "metadata": {},
   "source": [
    "### 우리가 만들어야 할 것\n",
    "`most_popular`이나 `genre_most_popular`과 같은 모델을 만들면 되는 것 같음\n",
    "\n",
    "- 추천 기준?"
   ]
  },
  {
   "cell_type": "markdown",
   "metadata": {},
   "source": [
    "---"
   ]
  },
  {
   "cell_type": "markdown",
   "metadata": {},
   "source": [
    "## data \n",
    "1. tag 일부 존재, song x\n",
    "2. song 일부 존재, tag x\n",
    "3. tag와 song 일부 존재\n",
    "4. 플레이리스트 제목만 있음"
   ]
  },
  {
   "cell_type": "markdown",
   "metadata": {},
   "source": [
    "## 접근법\n",
    "#### 4- 플레이리스트 제목의 형태소 분석 필요\n",
    "- https://arena.kakao.com/forum/topics/226 \n",
    "- https://arena.kakao.com/forum/topics/200\n",
    "- https://arena.kakao.com/forum/topics/232\n",
    "    - 예측해야할 플레이리스트와 유사도가 높은 플레이리스트 목록(이하 X) 을 구한 뒤, X에 자주 등장하는 곡과 태그를 추천합니다. 이 때, 임베딩이 되지 않아 유사도를 구할 수 없는 플레이리스트들은 베이스라인 코드의 결과를 추천합니다. 또한 X에 등장하는 곡과 태그의 nunique가 예측해야할 수보다 적은 경우에도 부족한 만큼 베이스라인 코드의 결과에서 가져옵니다.\n",
    "    \n",
    "#### 태그넣기\n",
    "- 매핑된 태그 리스트 중(ex: 밤, 새벽/밤, 새벽, 휴식, 힐링/밤, 새벽, 비오는날 --> 새벽이 있으면 휴식, 힐링 비오는 날 을 넣는식으로?)\n",
    "- 곡 제목 고려->곡 제목을 분석했을 때 태그 목록과 일치하는 것이 있는가? \n",
    "- 이 곡이 다른 플레이리스트에 담겨있는 경우, 어떤 태그가 있는가? 분석후 상위 10개 가져와서 tag 달기\n",
    "- 장르별 - 대분류와 상세분류\n",
    "- 등...\n",
    "\n",
    "#### 노래 넣기\n",
    "- 플레이리스트 태그 고려 -> 이별, 감성 --> 가장 많이 나온 곡 순서대로\n",
    "- 추억 등의 태그가 있는 경우 옛날 노래일 가능성 up?\n",
    "- 플레이리스트 이름에 년도가 있는 경우 곡 발매 년도를 고려\n",
    "- 이미 있는 몇곡이 동시에 수록된 플레이리스트가 있는가?\n",
    "\n",
    "#### 선호도 고려?\n",
    "- 플레이리스트에서 인기 있는 노래가 존재, 모든 song data에 이를 고려한 점수를 부여? 아니면 기준을 정해도 될듯\n",
    "    - 예를 들어 popular이라는 항목: 플레이리스트에 자주 실린 경우 높은 점수\n",
    "    - 태그 별 항목 생성(이별이라는 키워드에 자주 등장: 이별 이라는 항목에 높은 점수)\n",
    "    \n",
    "- 플레이리스트 좋아요 수\n",
    "\n",
    "##### 태그든 노래든 점수를 차등부여하는 방식으로?"
   ]
  },
  {
   "cell_type": "markdown",
   "metadata": {},
   "source": [
    "## 고려해야할 사항\n",
    "1. 플레이리스트 update 날짜 이후에 발매된 곡은 넣지 않아야 한다.\n",
    "    - https://arena.kakao.com/forum/topics/217"
   ]
  },
  {
   "cell_type": "code",
   "execution_count": null,
   "metadata": {},
   "outputs": [],
   "source": []
  }
 ],
 "metadata": {
  "kernelspec": {
   "display_name": "Python 3",
   "language": "python",
   "name": "python3"
  },
  "language_info": {
   "codemirror_mode": {
    "name": "ipython",
    "version": 3
   },
   "file_extension": ".py",
   "mimetype": "text/x-python",
   "name": "python",
   "nbconvert_exporter": "python",
   "pygments_lexer": "ipython3",
   "version": "3.7.6"
  }
 },
 "nbformat": 4,
 "nbformat_minor": 4
}
