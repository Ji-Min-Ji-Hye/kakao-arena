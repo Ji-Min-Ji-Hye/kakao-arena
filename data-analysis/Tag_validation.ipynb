{
 "cells": [
  {
   "cell_type": "markdown",
   "metadata": {},
   "source": [
    "# Tag validation"
   ]
  },
  {
   "cell_type": "code",
   "execution_count": null,
   "metadata": {
    "scrolled": true
   },
   "outputs": [],
   "source": [
    "import pandas as pd\n",
    "import pandas as pd\n",
    "import json\n",
    "from mlxtend.preprocessing import TransactionEncoder\n",
    "from mlxtend.frequent_patterns import apriori, association_rules\n",
    "import itertools\n",
    "\n",
    "datapath = \"D:/Jihye/data/\"\n",
    "\n",
    "\n",
    "def data_load(datapath): #data 불러와서 dataframe으로 저장하는 함수\n",
    "\n",
    "    #json파일 불러와서 dataframe화\n",
    "    #with open(datapath+\"genre_gn_all.json\", encoding = 'utf-8') as json_file: genre = json.load(json_file)\n",
    "    #with open(datapath+\"song_meta.json\", encoding = 'utf-8') as json_file: song_meta = json.load(json_file)\n",
    "    with open(datapath+\"train.json\", encoding = 'utf-8') as json_file: train = json.load(json_file)\n",
    "    with open(datapath+\"val.json\", encoding = 'utf-8') as json_file: valid = json.load(json_file)\n",
    "    \n",
    "    # json to dataframe\n",
    "    #df_genre = pd.Series(genre).to_frame('genre').reset_index().rename({'index' : 'gen_id'}, axis = 1)\n",
    "    #df_song_meta = pd.DataFrame(song_meta)\n",
    "    df_train = pd.DataFrame(train)\n",
    "    df_valid = pd.DataFrame(valid)\n",
    "    tag_list=df_train['tags'].tolist()\n",
    "    \n",
    "    return tag_list, df_train, df_valid\n",
    "\n",
    "def one_hot_encoding(tag_list):\n",
    "    te = TransactionEncoder()\n",
    "    te_ary = te.fit(tag_list).transform(tag_list)\n",
    "    return pd.DataFrame(te_ary, columns=te.columns_)\n",
    "\n",
    "def analysis_tags(result, min_support) :\n",
    "    frequent_itemsets = apriori(result, min_support=min_support, use_colnames=True) #Apriori 적용, 전체에서 등장확률이 min_support이상인 itemset만 출력\n",
    "    rules=association_rules(frequent_itemsets, metric=\"lift\", min_threshold=1)\n",
    "    return frequent_itemsets, rules\n",
    "\n",
    "def search_tags(tag_list,rules,i): #생성된 association_rules에서 원하는 tag를 검색, yield로 구현해보기\n",
    "    playlist=tag_list[i]\n",
    "    #print (\"기존 태그\")\n",
    "    #print (playlist)\n",
    "    A=rules[(rules.antecedents=={playlist[0]})] #rules에서 해당하는 태그만 데이터프레임으로 만들기\n",
    "    for p in range(len(playlist)-1):\n",
    "        try:\n",
    "            B=rules[(rules.antecedents=={playlist[p+1]})]\n",
    "            C=pd.concat([A,B],axis=0).reset_index(drop=True)\n",
    "            A=C\n",
    "        except: break \n",
    "    \n",
    "    selected=A[['antecedents','consequents','support','confidence','lift']] #향상도에 내림차순 정렬\n",
    "    #향상도 1이상, 신뢰도 0.1이상만 보여줌\n",
    "    S=selected[(selected['lift']>1.0)& (selected['confidence']>0.2) ].sort_values(by=['lift'],axis=0,ascending=False).reset_index(drop=True)\n",
    "    \n",
    "    #print (S)\n",
    "    taglist=[]\n",
    "    \n",
    "    for c in range(len(S.consequents)):\n",
    "        T=list(S.consequents[c])\n",
    "        taglist.append(T)\n",
    "        \n",
    "    taglist=list(itertools.chain.from_iterable(taglist))   \n",
    "\n",
    "    Tag=[]\n",
    "    for v in taglist:\n",
    "        if ((v not in Tag) and (v not in playlist)): #중복을 제거하고, 기존태그와 겹치는 태그도 제거\n",
    "            Tag.append(v)\n",
    "            if len(Tag)+len(playlist)==10 : break #총합 10개의 태그만 Tag리스트에 넣음\n",
    "                \n",
    "    #print (\"관련 태그\")\n",
    "    #print (Tag)\n",
    "     \n",
    "    return Tag\n",
    "\n",
    "def main():\n",
    "\n",
    "    tag_list, df_train, df_valid = data_load(datapath)\n",
    "    result=one_hot_encoding(tag_list)\n",
    "    frequent_itemsets, rules = analysis_tags(result, 0.001)\n",
    "    frequent_itemsets.to_csv('frequent_itemsets')\n",
    "    rules.to_csv('rules.csv')\n",
    "\n",
    "    V=df_valid[['tags','id','songs']]\n",
    "\n",
    "    for i in range(len(tag_list)):\n",
    "        Tag=search_tags(tag_list,rules,i)\n",
    "        if (V.tags[i]==[]):\n",
    "            print ('{} : playlist id {} 태그 없음'.format(i,V.id[i]))\n",
    "        else:\n",
    "            print ('{} : playlist id {} 기존 태그 {} 추가 태그 {}'.format(i,V.id[i],V.tags[i],Tag))\n",
    "            V.tags[i].extend(Tag)\n",
    "    print (V)\n",
    "\n",
    "if __name__== \"__main__\":\n",
    "    main()"
   ]
  },
  {
   "cell_type": "code",
   "execution_count": null,
   "metadata": {},
   "outputs": [],
   "source": [
    "main()"
   ]
  },
  {
   "cell_type": "markdown",
   "metadata": {},
   "source": [
    "최소 support 0.001 (115개), 최소 confidence 0.2, 향상도 순으로 추가"
   ]
  }
 ],
 "metadata": {
  "kernelspec": {
   "display_name": "Python 3",
   "language": "python",
   "name": "python3"
  },
  "language_info": {
   "codemirror_mode": {
    "name": "ipython",
    "version": 3
   },
   "file_extension": ".py",
   "mimetype": "text/x-python",
   "name": "python",
   "nbconvert_exporter": "python",
   "pygments_lexer": "ipython3",
   "version": "3.7.4"
  }
 },
 "nbformat": 4,
 "nbformat_minor": 2
}
